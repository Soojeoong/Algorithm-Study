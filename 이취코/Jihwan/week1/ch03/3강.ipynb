{
 "cells": [
  {
   "cell_type": "markdown",
   "id": "c2f20bb5",
   "metadata": {},
   "source": [
    "### 큰 수의 법칙"
   ]
  },
  {
   "cell_type": "code",
   "execution_count": 17,
   "id": "543a2749",
   "metadata": {},
   "outputs": [
    {
     "name": "stdout",
     "output_type": "stream",
     "text": [
      "5 8 3\n",
      "2 4 5 4 6\n",
      "46\n"
     ]
    }
   ],
   "source": [
    "N, M, K = map(int, input().split())\n",
    "\n",
    "temp = list(map(int, input().split()))\n",
    "\n",
    "r = M%(K+1)\n",
    "q = M//(K+1)\n",
    "\n",
    "a = max(temp)\n",
    "temp.remove(a)\n",
    "\n",
    "b = max(temp)\n",
    "\n",
    "print((K* a + b) * q + a * r)"
   ]
  },
  {
   "cell_type": "markdown",
   "id": "e866d26d",
   "metadata": {},
   "source": [
    "### 숫자 카드 게임"
   ]
  },
  {
   "cell_type": "code",
   "execution_count": 20,
   "id": "59d01f41",
   "metadata": {},
   "outputs": [
    {
     "name": "stdout",
     "output_type": "stream",
     "text": [
      "2 4\n",
      "7 3 1 8\n",
      "3 3 3 4\n",
      "3\n"
     ]
    }
   ],
   "source": [
    "N, M = map(int, input().split())\n",
    "\n",
    "temp = []\n",
    "\n",
    "for i in range(N):\n",
    "    temp.append(min(list(map(int, input().split()))))\n",
    "    \n",
    "print(max(temp))"
   ]
  },
  {
   "cell_type": "markdown",
   "id": "b158ba01",
   "metadata": {},
   "source": [
    "### 1이 될 때까지"
   ]
  },
  {
   "cell_type": "code",
   "execution_count": 25,
   "id": "f3cdb5a1",
   "metadata": {},
   "outputs": [
    {
     "name": "stdout",
     "output_type": "stream",
     "text": [
      "27 3\n",
      "3\n"
     ]
    }
   ],
   "source": [
    "N, K = map(int, input().split())\n",
    "result = 0\n",
    "\n",
    "while N != 1:\n",
    "    if N % K == 0:\n",
    "        N //= K\n",
    "        result += 1\n",
    "    else: # 단점 만약 N이 무한히 크면 하나씩 뺴기 어려움\n",
    "        N -= 1\n",
    "        result += 1\n",
    "        \n",
    "print(result)"
   ]
  },
  {
   "cell_type": "code",
   "execution_count": 38,
   "id": "93723ea5",
   "metadata": {},
   "outputs": [
    {
     "name": "stdout",
     "output_type": "stream",
     "text": [
      "25 5\n",
      "2\n"
     ]
    }
   ],
   "source": [
    "N, K = map(int, input().split())\n",
    "result = 0\n",
    "\n",
    "while True:\n",
    "    target = (N//K) * K\n",
    "    result += (N - target)\n",
    "    N = target\n",
    "    if N < K:\n",
    "        break\n",
    "    result += 1\n",
    "    N //= K\n",
    "\n",
    "result += (n-1)\n",
    "print(result)"
   ]
  },
  {
   "cell_type": "code",
   "execution_count": null,
   "id": "d8ae40b0",
   "metadata": {},
   "outputs": [],
   "source": []
  }
 ],
 "metadata": {
  "kernelspec": {
   "display_name": "Python 3 (ipykernel)",
   "language": "python",
   "name": "python3"
  },
  "language_info": {
   "codemirror_mode": {
    "name": "ipython",
    "version": 3
   },
   "file_extension": ".py",
   "mimetype": "text/x-python",
   "name": "python",
   "nbconvert_exporter": "python",
   "pygments_lexer": "ipython3",
   "version": "3.9.7"
  }
 },
 "nbformat": 4,
 "nbformat_minor": 5
}
